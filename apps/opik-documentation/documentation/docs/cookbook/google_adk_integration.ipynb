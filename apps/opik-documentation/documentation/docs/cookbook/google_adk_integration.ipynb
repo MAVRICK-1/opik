{
 "cells": [
  {
   "cell_type": "markdown",
   "metadata": {
    "id": "NTaMBjChz7m5"
   },
   "source": [
    "# Google ADK + Opik Integration Cookbook\n",
    "\n",
    "This notebook demonstrates how to integrate Google's Agent Development Kit (ADK) with Opik for comprehensive tracing and observability.\n",
    "\n",
    "You will need:\n",
    "\n",
    "1. A Comet account, for seeing Opik visualizations (free!) - [comet.com](https://comet.com)\n",
    "2. An OpenAI account, for using gpt-4o model - [platform.openai.com/settings/organization/api-keys](https://platform.openai.com/settings/organization/api-keys)\n",
    "3. Google ADK installed and configured\n",
    "\n",
    "This example will use:\n",
    "\n",
    "- [google-adk](https://pypi.org/project/google-adk/) for agent development\n",
    "- [opik](https://pypi.org/project/opik/) for tracing and observability\n",
    "- OpenAI's gpt-4o model through LiteLLM"
   ]
  },
  {
   "cell_type": "markdown",
   "metadata": {
    "id": "yM1lU0dBBnJs"
   },
   "source": [
    "## Setup\n",
    "\n",
    "Install the required packages:"
   ]
  },
  {
   "cell_type": "code",
   "execution_count": 1,
   "metadata": {
    "id": "2Tx6HwuU1rB4"
   },
   "outputs": [
    {
     "name": "stdout",
     "output_type": "stream",
     "text": [
      "Requirement already satisfied: opik in /home/mavrick/anaconda3/lib/python3.12/site-packages (1.7.37)\n",
      "Requirement already satisfied: google-adk in /home/mavrick/anaconda3/lib/python3.12/site-packages (1.4.2)\n",
      "Requirement already satisfied: litellm in /home/mavrick/anaconda3/lib/python3.12/site-packages (1.73.1)\n",
      "Requirement already satisfied: boto3-stubs>=1.34.110 in /home/mavrick/anaconda3/lib/python3.12/site-packages (from boto3-stubs[bedrock-runtime]>=1.34.110->opik) (1.38.40)\n",
      "Requirement already satisfied: click in /home/mavrick/anaconda3/lib/python3.12/site-packages (from opik) (8.1.8)\n",
      "Requirement already satisfied: httpx in /home/mavrick/anaconda3/lib/python3.12/site-packages (from opik) (0.28.1)\n",
      "Requirement already satisfied: rapidfuzz<4.0.0,>=3.0.0 in /home/mavrick/anaconda3/lib/python3.12/site-packages (from opik) (3.13.0)\n",
      "Requirement already satisfied: openai<2.0.0 in /home/mavrick/anaconda3/lib/python3.12/site-packages (from opik) (1.91.0)\n",
      "Requirement already satisfied: pydantic-settings!=2.9.0,<3.0.0,>=2.0.0 in /home/mavrick/anaconda3/lib/python3.12/site-packages (from opik) (2.6.1)\n",
      "Requirement already satisfied: pydantic<3.0.0,>=2.0.0 in /home/mavrick/anaconda3/lib/python3.12/site-packages (from opik) (2.11.7)\n",
      "Requirement already satisfied: pytest in /home/mavrick/anaconda3/lib/python3.12/site-packages (from opik) (8.3.4)\n",
      "Requirement already satisfied: rich in /home/mavrick/anaconda3/lib/python3.12/site-packages (from opik) (13.9.4)\n",
      "Requirement already satisfied: sentry_sdk>=2.0.0 in /home/mavrick/anaconda3/lib/python3.12/site-packages (from opik) (2.30.0)\n",
      "Requirement already satisfied: tenacity in /home/mavrick/anaconda3/lib/python3.12/site-packages (from opik) (8.5.0)\n",
      "Requirement already satisfied: tqdm in /home/mavrick/anaconda3/lib/python3.12/site-packages (from opik) (4.67.1)\n",
      "Requirement already satisfied: uuid6 in /home/mavrick/anaconda3/lib/python3.12/site-packages (from opik) (2025.0.0)\n",
      "Requirement already satisfied: jinja2 in /home/mavrick/anaconda3/lib/python3.12/site-packages (from opik) (3.1.6)\n",
      "Requirement already satisfied: anyio>=4.9.0 in /home/mavrick/anaconda3/lib/python3.12/site-packages (from google-adk) (4.9.0)\n",
      "Requirement already satisfied: authlib>=1.5.1 in /home/mavrick/anaconda3/lib/python3.12/site-packages (from google-adk) (1.6.0)\n",
      "Requirement already satisfied: fastapi>=0.115.0 in /home/mavrick/anaconda3/lib/python3.12/site-packages (from google-adk) (0.115.13)\n",
      "Requirement already satisfied: google-api-python-client>=2.157.0 in /home/mavrick/anaconda3/lib/python3.12/site-packages (from google-adk) (2.173.0)\n",
      "Requirement already satisfied: google-cloud-aiplatform>=1.95.1 in /home/mavrick/anaconda3/lib/python3.12/site-packages (from google-cloud-aiplatform[agent-engines]>=1.95.1->google-adk) (1.98.0)\n",
      "Requirement already satisfied: google-cloud-secret-manager>=2.22.0 in /home/mavrick/anaconda3/lib/python3.12/site-packages (from google-adk) (2.24.0)\n",
      "Requirement already satisfied: google-cloud-speech>=2.30.0 in /home/mavrick/anaconda3/lib/python3.12/site-packages (from google-adk) (2.33.0)\n",
      "Requirement already satisfied: google-cloud-storage<3.0.0,>=2.18.0 in /home/mavrick/anaconda3/lib/python3.12/site-packages (from google-adk) (2.19.0)\n",
      "Requirement already satisfied: google-genai>=1.17.0 in /home/mavrick/anaconda3/lib/python3.12/site-packages (from google-adk) (1.21.1)\n",
      "Requirement already satisfied: graphviz>=0.20.2 in /home/mavrick/anaconda3/lib/python3.12/site-packages (from google-adk) (0.21)\n",
      "Requirement already satisfied: mcp>=1.8.0 in /home/mavrick/anaconda3/lib/python3.12/site-packages (from google-adk) (1.9.4)\n",
      "Requirement already satisfied: opentelemetry-api>=1.31.0 in /home/mavrick/anaconda3/lib/python3.12/site-packages (from google-adk) (1.34.1)\n",
      "Requirement already satisfied: opentelemetry-exporter-gcp-trace>=1.9.0 in /home/mavrick/anaconda3/lib/python3.12/site-packages (from google-adk) (1.9.0)\n",
      "Requirement already satisfied: opentelemetry-sdk>=1.31.0 in /home/mavrick/anaconda3/lib/python3.12/site-packages (from google-adk) (1.34.1)\n",
      "Requirement already satisfied: python-dateutil>=2.9.0.post0 in /home/mavrick/anaconda3/lib/python3.12/site-packages (from google-adk) (2.9.0.post0)\n",
      "Requirement already satisfied: python-dotenv>=1.0.0 in /home/mavrick/anaconda3/lib/python3.12/site-packages (from google-adk) (1.1.1)\n",
      "Requirement already satisfied: PyYAML>=6.0.2 in /home/mavrick/anaconda3/lib/python3.12/site-packages (from google-adk) (6.0.2)\n",
      "Requirement already satisfied: requests>=2.32.4 in /home/mavrick/anaconda3/lib/python3.12/site-packages (from google-adk) (2.32.4)\n",
      "Requirement already satisfied: sqlalchemy>=2.0 in /home/mavrick/anaconda3/lib/python3.12/site-packages (from google-adk) (2.0.37)\n",
      "Requirement already satisfied: starlette>=0.46.2 in /home/mavrick/anaconda3/lib/python3.12/site-packages (from google-adk) (0.46.2)\n",
      "Requirement already satisfied: typing-extensions<5,>=4.5 in /home/mavrick/anaconda3/lib/python3.12/site-packages (from google-adk) (4.12.2)\n",
      "Requirement already satisfied: tzlocal>=5.3 in /home/mavrick/anaconda3/lib/python3.12/site-packages (from google-adk) (5.3.1)\n",
      "Requirement already satisfied: uvicorn>=0.34.0 in /home/mavrick/anaconda3/lib/python3.12/site-packages (from google-adk) (0.34.3)\n",
      "Requirement already satisfied: websockets>=15.0.1 in /home/mavrick/anaconda3/lib/python3.12/site-packages (from google-adk) (15.0.1)\n",
      "Requirement already satisfied: aiohttp>=3.10 in /home/mavrick/anaconda3/lib/python3.12/site-packages (from litellm) (3.11.10)\n",
      "Requirement already satisfied: importlib-metadata>=6.8.0 in /home/mavrick/anaconda3/lib/python3.12/site-packages (from litellm) (8.5.0)\n",
      "Requirement already satisfied: jsonschema<5.0.0,>=4.22.0 in /home/mavrick/anaconda3/lib/python3.12/site-packages (from litellm) (4.23.0)\n",
      "Requirement already satisfied: tiktoken>=0.7.0 in /home/mavrick/anaconda3/lib/python3.12/site-packages (from litellm) (0.9.0)\n",
      "Requirement already satisfied: tokenizers in /home/mavrick/anaconda3/lib/python3.12/site-packages (from litellm) (0.21.1)\n",
      "Requirement already satisfied: aiohappyeyeballs>=2.3.0 in /home/mavrick/anaconda3/lib/python3.12/site-packages (from aiohttp>=3.10->litellm) (2.4.4)\n",
      "Requirement already satisfied: aiosignal>=1.1.2 in /home/mavrick/anaconda3/lib/python3.12/site-packages (from aiohttp>=3.10->litellm) (1.2.0)\n",
      "Requirement already satisfied: attrs>=17.3.0 in /home/mavrick/anaconda3/lib/python3.12/site-packages (from aiohttp>=3.10->litellm) (24.3.0)\n",
      "Requirement already satisfied: frozenlist>=1.1.1 in /home/mavrick/anaconda3/lib/python3.12/site-packages (from aiohttp>=3.10->litellm) (1.5.0)\n",
      "Requirement already satisfied: multidict<7.0,>=4.5 in /home/mavrick/anaconda3/lib/python3.12/site-packages (from aiohttp>=3.10->litellm) (6.1.0)\n",
      "Requirement already satisfied: propcache>=0.2.0 in /home/mavrick/anaconda3/lib/python3.12/site-packages (from aiohttp>=3.10->litellm) (0.3.1)\n",
      "Requirement already satisfied: yarl<2.0,>=1.17.0 in /home/mavrick/anaconda3/lib/python3.12/site-packages (from aiohttp>=3.10->litellm) (1.18.0)\n",
      "Requirement already satisfied: idna>=2.8 in /home/mavrick/anaconda3/lib/python3.12/site-packages (from anyio>=4.9.0->google-adk) (3.7)\n",
      "Requirement already satisfied: sniffio>=1.1 in /home/mavrick/anaconda3/lib/python3.12/site-packages (from anyio>=4.9.0->google-adk) (1.3.0)\n",
      "Requirement already satisfied: cryptography in /home/mavrick/anaconda3/lib/python3.12/site-packages (from authlib>=1.5.1->google-adk) (44.0.1)\n",
      "Requirement already satisfied: botocore-stubs in /home/mavrick/anaconda3/lib/python3.12/site-packages (from boto3-stubs>=1.34.110->boto3-stubs[bedrock-runtime]>=1.34.110->opik) (1.38.30)\n",
      "Requirement already satisfied: types-s3transfer in /home/mavrick/anaconda3/lib/python3.12/site-packages (from boto3-stubs>=1.34.110->boto3-stubs[bedrock-runtime]>=1.34.110->opik) (0.13.0)\n",
      "Requirement already satisfied: mypy-boto3-bedrock-runtime<1.39.0,>=1.38.0 in /home/mavrick/anaconda3/lib/python3.12/site-packages (from boto3-stubs[bedrock-runtime]>=1.34.110->opik) (1.38.4)\n",
      "Requirement already satisfied: httplib2<1.0.0,>=0.19.0 in /home/mavrick/anaconda3/lib/python3.12/site-packages (from google-api-python-client>=2.157.0->google-adk) (0.22.0)\n",
      "Requirement already satisfied: google-auth!=2.24.0,!=2.25.0,<3.0.0,>=1.32.0 in /home/mavrick/anaconda3/lib/python3.12/site-packages (from google-api-python-client>=2.157.0->google-adk) (2.40.3)\n",
      "Requirement already satisfied: google-auth-httplib2<1.0.0,>=0.2.0 in /home/mavrick/anaconda3/lib/python3.12/site-packages (from google-api-python-client>=2.157.0->google-adk) (0.2.0)\n",
      "Requirement already satisfied: google-api-core!=2.0.*,!=2.1.*,!=2.2.*,!=2.3.0,<3.0.0,>=1.31.5 in /home/mavrick/anaconda3/lib/python3.12/site-packages (from google-api-python-client>=2.157.0->google-adk) (2.25.1)\n",
      "Requirement already satisfied: uritemplate<5,>=3.0.1 in /home/mavrick/anaconda3/lib/python3.12/site-packages (from google-api-python-client>=2.157.0->google-adk) (4.2.0)\n",
      "Requirement already satisfied: proto-plus<2.0.0,>=1.22.3 in /home/mavrick/anaconda3/lib/python3.12/site-packages (from google-cloud-aiplatform>=1.95.1->google-cloud-aiplatform[agent-engines]>=1.95.1->google-adk) (1.26.1)\n",
      "Requirement already satisfied: protobuf!=4.21.0,!=4.21.1,!=4.21.2,!=4.21.3,!=4.21.4,!=4.21.5,<7.0.0,>=3.20.2 in /home/mavrick/anaconda3/lib/python3.12/site-packages (from google-cloud-aiplatform>=1.95.1->google-cloud-aiplatform[agent-engines]>=1.95.1->google-adk) (5.29.5)\n",
      "Requirement already satisfied: packaging>=14.3 in /home/mavrick/anaconda3/lib/python3.12/site-packages (from google-cloud-aiplatform>=1.95.1->google-cloud-aiplatform[agent-engines]>=1.95.1->google-adk) (24.2)\n",
      "Requirement already satisfied: google-cloud-bigquery!=3.20.0,<4.0.0,>=1.15.0 in /home/mavrick/anaconda3/lib/python3.12/site-packages (from google-cloud-aiplatform>=1.95.1->google-cloud-aiplatform[agent-engines]>=1.95.1->google-adk) (3.34.0)\n",
      "Requirement already satisfied: google-cloud-resource-manager<3.0.0,>=1.3.3 in /home/mavrick/anaconda3/lib/python3.12/site-packages (from google-cloud-aiplatform>=1.95.1->google-cloud-aiplatform[agent-engines]>=1.95.1->google-adk) (1.14.2)\n",
      "Requirement already satisfied: shapely<3.0.0 in /home/mavrick/anaconda3/lib/python3.12/site-packages (from google-cloud-aiplatform>=1.95.1->google-cloud-aiplatform[agent-engines]>=1.95.1->google-adk) (2.1.1)\n",
      "Requirement already satisfied: docstring_parser<1 in /home/mavrick/anaconda3/lib/python3.12/site-packages (from google-cloud-aiplatform>=1.95.1->google-cloud-aiplatform[agent-engines]>=1.95.1->google-adk) (0.16)\n",
      "Requirement already satisfied: cloudpickle<4.0,>=3.0 in /home/mavrick/anaconda3/lib/python3.12/site-packages (from google-cloud-aiplatform[agent-engines]>=1.95.1->google-adk) (3.0.0)\n",
      "Requirement already satisfied: google-cloud-trace<2 in /home/mavrick/anaconda3/lib/python3.12/site-packages (from google-cloud-aiplatform[agent-engines]>=1.95.1->google-adk) (1.16.2)\n",
      "Requirement already satisfied: google-cloud-logging<4 in /home/mavrick/anaconda3/lib/python3.12/site-packages (from google-cloud-aiplatform[agent-engines]>=1.95.1->google-adk) (3.12.1)\n",
      "Requirement already satisfied: grpc-google-iam-v1<1.0.0,>=0.14.0 in /home/mavrick/anaconda3/lib/python3.12/site-packages (from google-cloud-secret-manager>=2.22.0->google-adk) (0.14.2)\n",
      "Requirement already satisfied: google-cloud-core<3.0dev,>=2.3.0 in /home/mavrick/anaconda3/lib/python3.12/site-packages (from google-cloud-storage<3.0.0,>=2.18.0->google-adk) (2.4.3)\n",
      "Requirement already satisfied: google-resumable-media>=2.7.2 in /home/mavrick/anaconda3/lib/python3.12/site-packages (from google-cloud-storage<3.0.0,>=2.18.0->google-adk) (2.7.2)\n",
      "Requirement already satisfied: google-crc32c<2.0dev,>=1.0 in /home/mavrick/anaconda3/lib/python3.12/site-packages (from google-cloud-storage<3.0.0,>=2.18.0->google-adk) (1.7.1)\n",
      "Requirement already satisfied: certifi in /home/mavrick/anaconda3/lib/python3.12/site-packages (from httpx->opik) (2025.6.15)\n",
      "Requirement already satisfied: httpcore==1.* in /home/mavrick/anaconda3/lib/python3.12/site-packages (from httpx->opik) (1.0.2)\n",
      "Requirement already satisfied: h11<0.15,>=0.13 in /home/mavrick/anaconda3/lib/python3.12/site-packages (from httpcore==1.*->httpx->opik) (0.14.0)\n",
      "Requirement already satisfied: zipp>=3.20 in /home/mavrick/anaconda3/lib/python3.12/site-packages (from importlib-metadata>=6.8.0->litellm) (3.21.0)\n",
      "Requirement already satisfied: MarkupSafe>=2.0 in /home/mavrick/anaconda3/lib/python3.12/site-packages (from jinja2->opik) (3.0.2)\n",
      "Requirement already satisfied: jsonschema-specifications>=2023.03.6 in /home/mavrick/anaconda3/lib/python3.12/site-packages (from jsonschema<5.0.0,>=4.22.0->litellm) (2023.7.1)\n",
      "Requirement already satisfied: referencing>=0.28.4 in /home/mavrick/anaconda3/lib/python3.12/site-packages (from jsonschema<5.0.0,>=4.22.0->litellm) (0.30.2)\n",
      "Requirement already satisfied: rpds-py>=0.7.1 in /home/mavrick/anaconda3/lib/python3.12/site-packages (from jsonschema<5.0.0,>=4.22.0->litellm) (0.22.3)\n",
      "Requirement already satisfied: httpx-sse>=0.4 in /home/mavrick/anaconda3/lib/python3.12/site-packages (from mcp>=1.8.0->google-adk) (0.4.0)\n",
      "Requirement already satisfied: python-multipart>=0.0.9 in /home/mavrick/anaconda3/lib/python3.12/site-packages (from mcp>=1.8.0->google-adk) (0.0.20)\n",
      "Requirement already satisfied: sse-starlette>=1.6.1 in /home/mavrick/anaconda3/lib/python3.12/site-packages (from mcp>=1.8.0->google-adk) (2.3.6)\n",
      "Requirement already satisfied: distro<2,>=1.7.0 in /home/mavrick/anaconda3/lib/python3.12/site-packages (from openai<2.0.0->opik) (1.9.0)\n",
      "Requirement already satisfied: jiter<1,>=0.4.0 in /home/mavrick/anaconda3/lib/python3.12/site-packages (from openai<2.0.0->opik) (0.10.0)\n",
      "Requirement already satisfied: opentelemetry-resourcedetector-gcp==1.*,>=1.5.0dev0 in /home/mavrick/anaconda3/lib/python3.12/site-packages (from opentelemetry-exporter-gcp-trace>=1.9.0->google-adk) (1.9.0a0)\n",
      "Requirement already satisfied: opentelemetry-semantic-conventions==0.55b1 in /home/mavrick/anaconda3/lib/python3.12/site-packages (from opentelemetry-sdk>=1.31.0->google-adk) (0.55b1)\n",
      "Requirement already satisfied: annotated-types>=0.6.0 in /home/mavrick/anaconda3/lib/python3.12/site-packages (from pydantic<3.0.0,>=2.0.0->opik) (0.6.0)\n",
      "Requirement already satisfied: pydantic-core==2.33.2 in /home/mavrick/anaconda3/lib/python3.12/site-packages (from pydantic<3.0.0,>=2.0.0->opik) (2.33.2)\n",
      "Requirement already satisfied: typing-inspection>=0.4.0 in /home/mavrick/anaconda3/lib/python3.12/site-packages (from pydantic<3.0.0,>=2.0.0->opik) (0.4.1)\n",
      "Requirement already satisfied: six>=1.5 in /home/mavrick/anaconda3/lib/python3.12/site-packages (from python-dateutil>=2.9.0.post0->google-adk) (1.17.0)\n",
      "Requirement already satisfied: charset_normalizer<4,>=2 in /home/mavrick/anaconda3/lib/python3.12/site-packages (from requests>=2.32.4->google-adk) (3.3.2)\n",
      "Requirement already satisfied: urllib3<3,>=1.21.1 in /home/mavrick/anaconda3/lib/python3.12/site-packages (from requests>=2.32.4->google-adk) (2.3.0)\n",
      "Requirement already satisfied: greenlet!=0.4.17 in /home/mavrick/anaconda3/lib/python3.12/site-packages (from sqlalchemy>=2.0->google-adk) (3.1.1)\n",
      "Requirement already satisfied: regex>=2022.1.18 in /home/mavrick/anaconda3/lib/python3.12/site-packages (from tiktoken>=0.7.0->litellm) (2024.11.6)\n",
      "Requirement already satisfied: iniconfig in /home/mavrick/anaconda3/lib/python3.12/site-packages (from pytest->opik) (1.1.1)\n",
      "Requirement already satisfied: pluggy<2,>=1.5 in /home/mavrick/anaconda3/lib/python3.12/site-packages (from pytest->opik) (1.5.0)\n",
      "Requirement already satisfied: markdown-it-py>=2.2.0 in /home/mavrick/anaconda3/lib/python3.12/site-packages (from rich->opik) (2.2.0)\n",
      "Requirement already satisfied: pygments<3.0.0,>=2.13.0 in /home/mavrick/anaconda3/lib/python3.12/site-packages (from rich->opik) (2.15.1)\n",
      "Requirement already satisfied: huggingface-hub<1.0,>=0.16.4 in /home/mavrick/anaconda3/lib/python3.12/site-packages (from tokenizers->litellm) (0.33.0)\n",
      "Requirement already satisfied: googleapis-common-protos<2.0.0,>=1.56.2 in /home/mavrick/anaconda3/lib/python3.12/site-packages (from google-api-core!=2.0.*,!=2.1.*,!=2.2.*,!=2.3.0,<3.0.0,>=1.31.5->google-api-python-client>=2.157.0->google-adk) (1.70.0)\n",
      "Requirement already satisfied: grpcio<2.0.0,>=1.33.2 in /home/mavrick/anaconda3/lib/python3.12/site-packages (from google-api-core[grpc]!=2.0.*,!=2.1.*,!=2.2.*,!=2.3.*,!=2.4.*,!=2.5.*,!=2.6.*,!=2.7.*,<3.0.0,>=1.34.1->google-cloud-aiplatform>=1.95.1->google-cloud-aiplatform[agent-engines]>=1.95.1->google-adk) (1.73.0)\n",
      "Requirement already satisfied: grpcio-status<2.0.0,>=1.33.2 in /home/mavrick/anaconda3/lib/python3.12/site-packages (from google-api-core[grpc]!=2.0.*,!=2.1.*,!=2.2.*,!=2.3.*,!=2.4.*,!=2.5.*,!=2.6.*,!=2.7.*,<3.0.0,>=1.34.1->google-cloud-aiplatform>=1.95.1->google-cloud-aiplatform[agent-engines]>=1.95.1->google-adk) (1.71.0)\n",
      "Requirement already satisfied: cachetools<6.0,>=2.0.0 in /home/mavrick/anaconda3/lib/python3.12/site-packages (from google-auth!=2.24.0,!=2.25.0,<3.0.0,>=1.32.0->google-api-python-client>=2.157.0->google-adk) (5.5.1)\n",
      "Requirement already satisfied: pyasn1-modules>=0.2.1 in /home/mavrick/anaconda3/lib/python3.12/site-packages (from google-auth!=2.24.0,!=2.25.0,<3.0.0,>=1.32.0->google-api-python-client>=2.157.0->google-adk) (0.2.8)\n",
      "Requirement already satisfied: rsa<5,>=3.1.4 in /home/mavrick/anaconda3/lib/python3.12/site-packages (from google-auth!=2.24.0,!=2.25.0,<3.0.0,>=1.32.0->google-api-python-client>=2.157.0->google-adk) (4.9.1)\n",
      "Requirement already satisfied: google-cloud-appengine-logging<2.0.0,>=0.1.3 in /home/mavrick/anaconda3/lib/python3.12/site-packages (from google-cloud-logging<4->google-cloud-aiplatform[agent-engines]>=1.95.1->google-adk) (1.6.2)\n",
      "Requirement already satisfied: google-cloud-audit-log<1.0.0,>=0.3.1 in /home/mavrick/anaconda3/lib/python3.12/site-packages (from google-cloud-logging<4->google-cloud-aiplatform[agent-engines]>=1.95.1->google-adk) (0.3.2)\n",
      "Requirement already satisfied: pyparsing!=3.0.0,!=3.0.1,!=3.0.2,!=3.0.3,<4,>=2.4.2 in /home/mavrick/anaconda3/lib/python3.12/site-packages (from httplib2<1.0.0,>=0.19.0->google-api-python-client>=2.157.0->google-adk) (3.2.0)\n",
      "Requirement already satisfied: filelock in /home/mavrick/anaconda3/lib/python3.12/site-packages (from huggingface-hub<1.0,>=0.16.4->tokenizers->litellm) (3.17.0)\n",
      "Requirement already satisfied: fsspec>=2023.5.0 in /home/mavrick/anaconda3/lib/python3.12/site-packages (from huggingface-hub<1.0,>=0.16.4->tokenizers->litellm) (2024.12.0)\n",
      "Requirement already satisfied: hf-xet<2.0.0,>=1.1.2 in /home/mavrick/anaconda3/lib/python3.12/site-packages (from huggingface-hub<1.0,>=0.16.4->tokenizers->litellm) (1.1.4)\n",
      "Requirement already satisfied: mdurl~=0.1 in /home/mavrick/anaconda3/lib/python3.12/site-packages (from markdown-it-py>=2.2.0->rich->opik) (0.1.0)\n",
      "Requirement already satisfied: numpy>=1.21 in /home/mavrick/anaconda3/lib/python3.12/site-packages (from shapely<3.0.0->google-cloud-aiplatform>=1.95.1->google-cloud-aiplatform[agent-engines]>=1.95.1->google-adk) (2.2.6)\n",
      "Requirement already satisfied: types-awscrt in /home/mavrick/anaconda3/lib/python3.12/site-packages (from botocore-stubs->boto3-stubs>=1.34.110->boto3-stubs[bedrock-runtime]>=1.34.110->opik) (0.27.2)\n",
      "Requirement already satisfied: cffi>=1.12 in /home/mavrick/anaconda3/lib/python3.12/site-packages (from cryptography->authlib>=1.5.1->google-adk) (1.17.1)\n",
      "Requirement already satisfied: pycparser in /home/mavrick/anaconda3/lib/python3.12/site-packages (from cffi>=1.12->cryptography->authlib>=1.5.1->google-adk) (2.21)\n",
      "Requirement already satisfied: pyasn1<0.5.0,>=0.4.6 in /home/mavrick/anaconda3/lib/python3.12/site-packages (from pyasn1-modules>=0.2.1->google-auth!=2.24.0,!=2.25.0,<3.0.0,>=1.32.0->google-api-python-client>=2.157.0->google-adk) (0.4.8)\n",
      "Note: you may need to restart the kernel to use updated packages.\n"
     ]
    }
   ],
   "source": [
    "%pip install opik google-adk litellm --upgrade"
   ]
  },
  {
   "cell_type": "markdown",
   "metadata": {},
   "source": [
    "Configure Opik for your session:"
   ]
  },
  {
   "cell_type": "code",
   "execution_count": 2,
   "metadata": {
    "id": "H0DNm-un_0Np"
   },
   "outputs": [
    {
     "name": "stderr",
     "output_type": "stream",
     "text": [
      "OPIK: Opik is already configured. You can check the settings by viewing the config file at /home/mavrick/.opik.config\n"
     ]
    }
   ],
   "source": [
    "import opik\n",
    "opik.configure()"
   ]
  },
  {
   "cell_type": "markdown",
   "metadata": {},
   "source": [
    "Set up your OpenAI API key:"
   ]
  },
  {
   "cell_type": "code",
   "execution_count": 3,
   "metadata": {
    "id": "vN72mHQy_7Ou"
   },
   "outputs": [],
   "source": [
    "import os\n",
    "import getpass\n",
    "if \"OPENAI_API_KEY\" not in os.environ:\n",
    "    os.environ[\"OPENAI_API_KEY\"] = getpass.getpass(\"Enter your OpenAI API key: \")"
   ]
  },
  {
   "cell_type": "markdown",
   "metadata": {},
   "source": [
    "## Import Required Libraries"
   ]
  },
  {
   "cell_type": "code",
   "execution_count": 4,
   "metadata": {},
   "outputs": [],
   "source": [
    "import asyncio\n",
    "import datetime\n",
    "from zoneinfo import ZoneInfo\n",
    "\n",
    "from google.adk.agents import LlmAgent\n",
    "from google.adk.models.lite_llm import LiteLlm\n",
    "from google.adk.sessions import InMemorySessionService\n",
    "from google.adk.runners import Runner\n",
    "from google.genai import types\n",
    "from opik.integrations.adk import OpikTracer"
   ]
  },
  {
   "cell_type": "markdown",
   "metadata": {},
   "source": [
    "## Define Tools\n",
    "\n",
    "Let's create some simple tools for our agent to demonstrate the integration:"
   ]
  },
  {
   "cell_type": "code",
   "execution_count": 5,
   "metadata": {},
   "outputs": [],
   "source": [
    "def get_weather(city: str) -> dict:\n",
    "    \"\"\"Get weather information for a city.\"\"\"\n",
    "    if city.lower() == \"new york\":\n",
    "        return {\n",
    "            \"status\": \"success\",\n",
    "            \"report\": \"The weather in New York is sunny with a temperature of 25 °C (77 °F).\",\n",
    "        }\n",
    "    return {\"status\": \"error\", \"error_message\": f\"Weather info for '{city}' is unavailable.\"}\n",
    "\n",
    "def get_current_time(city: str) -> dict:\n",
    "    \"\"\"Get current time for a city.\"\"\"\n",
    "    if city.lower() == \"new york\":\n",
    "        tz = ZoneInfo(\"America/New_York\")\n",
    "        now = datetime.datetime.now(tz)\n",
    "        return {\n",
    "            \"status\": \"success\",\n",
    "            \"report\": now.strftime(f\"The current time in {city} is %Y-%m-%d %H:%M:%S %Z%z.\"),\n",
    "        }\n",
    "    return {\"status\": \"error\", \"error_message\": f\"No timezone info for '{city}'.\"}"
   ]
  },
  {
   "cell_type": "markdown",
   "metadata": {},
   "source": [
    "## Configure Opik Tracing\n",
    "\n",
    "Set up the Opik tracer to capture all agent interactions:"
   ]
  },
  {
   "cell_type": "code",
   "execution_count": 6,
   "metadata": {},
   "outputs": [],
   "source": [
    "opik_tracer = OpikTracer(\n",
    "    name=\"adk-gpt-4o-demo\",\n",
    "    tags=[\"google-adk\", \"openai\", \"gpt-4o\", \"cookbook\"],\n",
    "    metadata={\n",
    "        \"environment\": \"development\",\n",
    "        \"model\": \"gpt-4o\",\n",
    "        \"framework\": \"google-adk\"\n",
    "    },\n",
    "    project_name=\"adk-gpt-4o-demo\",\n",
    "    distributed_headers={\n",
    "        \"trace_id\": \"opik-trace-id\",\n",
    "        \"span_id\": \"opik-span-id\"\n",
    "    }\n",
    ")"
   ]
  },
  {
   "cell_type": "markdown",
   "metadata": {},
   "source": [
    "## Create the LLM Agent\n",
    "\n",
    "Initialize the Google ADK agent with OpenAI's gpt-4o model and Opik tracing:"
   ]
  },
  {
   "cell_type": "code",
   "execution_count": 7,
   "metadata": {},
   "outputs": [],
   "source": [
    "# Initialize LiteLLM with OpenAI gpt-4o\n",
    "llm = LiteLlm(model=\"openai/gpt-4o\")\n",
    "\n",
    "# Create the agent with Opik callbacks\n",
    "root_agent = LlmAgent(\n",
    "    name=\"weather_time_agent\",\n",
    "    model=llm,\n",
    "    description=\"Agent for answering time & weather questions via gpt-4o\",\n",
    "    instruction=\"Answer questions about the time or weather in a city.\",\n",
    "    tools=[get_weather, get_current_time],\n",
    "    before_agent_callback=opik_tracer.before_agent_callback,\n",
    "    after_agent_callback=opik_tracer.after_agent_callback,\n",
    "    before_model_callback=opik_tracer.before_model_callback,\n",
    "    after_model_callback=opik_tracer.after_model_callback,\n",
    "    before_tool_callback=opik_tracer.before_tool_callback,\n",
    "    after_tool_callback=opik_tracer.after_tool_callback,\n",
    ")"
   ]
  },
  {
   "cell_type": "markdown",
   "metadata": {},
   "source": [
    "## Setup Session and Runner\n",
    "\n",
    "Configure the session service and runner for managing conversations:"
   ]
  },
  {
   "cell_type": "code",
   "execution_count": 8,
   "metadata": {},
   "outputs": [],
   "source": [
    "session_service = InMemorySessionService()\n",
    "runner = Runner(\n",
    "    agent=root_agent,\n",
    "    app_name=\"weather_app\",\n",
    "    session_service=session_service,\n",
    ")"
   ]
  },
  {
   "cell_type": "markdown",
   "metadata": {},
   "source": [
    "## Helper Functions\n",
    "\n",
    "Define utility functions for session management and agent interaction:"
   ]
  },
  {
   "cell_type": "code",
   "execution_count": 9,
   "metadata": {},
   "outputs": [],
   "source": [
    "async def setup_session():\n",
    "    \"\"\"Create a new session for the conversation.\"\"\"\n",
    "    sess = await session_service.create_session(\n",
    "        app_name=\"weather_app\",\n",
    "        user_id=\"user_123\",\n",
    "        session_id=\"session_abc\"\n",
    "    )\n",
    "    return sess.id\n",
    "\n",
    "async def call_agent_async(user_msg: str, session_id: str):\n",
    "    \"\"\"Send a message to the agent and get the response.\"\"\"\n",
    "    content = types.Content(role=\"user\", parts=[types.Part(text=user_msg)])\n",
    "    async for event in runner.run_async(user_id=\"user_123\", session_id=session_id, new_message=content):\n",
    "        if event.is_final_response():\n",
    "            print(\"Assistant:\", event.content.parts[0].text)"
   ]
  },
  {
   "cell_type": "markdown",
   "metadata": {},
   "source": [
    "## Demo: Interacting with the Agent\n",
    "\n",
    "Now let's run some example interactions with our agent. All interactions will be automatically traced in Opik:"
   ]
  },
  {
   "cell_type": "code",
   "execution_count": 10,
   "metadata": {},
   "outputs": [
    {
     "name": "stdout",
     "output_type": "stream",
     "text": [
      "Created session: session_abc\n"
     ]
    }
   ],
   "source": [
    "# Create a session\n",
    "session_id = await setup_session()\n",
    "print(f\"Created session: {session_id}\")"
   ]
  },
  {
   "cell_type": "code",
   "execution_count": 11,
   "metadata": {},
   "outputs": [
    {
     "name": "stdout",
     "output_type": "stream",
     "text": [
      "User: What's the weather in New York?\n"
     ]
    },
    {
     "name": "stderr",
     "output_type": "stream",
     "text": [
      "OPIK: Started logging traces to the \"adk-gpt-4o-demo\" project at https://www.comet.com/opik/api/v1/session/redirect/projects/?trace_id=0197a718-83d0-7a32-b6e9-a3e8dd12ed81&path=aHR0cHM6Ly93d3cuY29tZXQuY29tL29waWsvYXBpLw==.\n"
     ]
    },
    {
     "name": "stdout",
     "output_type": "stream",
     "text": [
      "Assistant: The current weather in New York is sunny with a temperature of 25 °C (77 °F).\n"
     ]
    }
   ],
   "source": [
    "# Ask about weather\n",
    "print(\"User: What's the weather in New York?\")\n",
    "await call_agent_async(\"What's the weather in New York?\", session_id)"
   ]
  },
  {
   "cell_type": "code",
   "execution_count": 12,
   "metadata": {},
   "outputs": [
    {
     "name": "stdout",
     "output_type": "stream",
     "text": [
      "\n",
      "User: And what time is it now?\n",
      "Assistant: The current time in New York is 8:38 AM on June 25th, 2025.\n"
     ]
    }
   ],
   "source": [
    "# Ask about time\n",
    "print(\"\\nUser: And what time is it now?\")\n",
    "await call_agent_async(\"And what time is it now?\", session_id)"
   ]
  },
  {
   "cell_type": "markdown",
   "metadata": {},
   "source": [
    "The trace can now be viewed in the UI:\n",
    "\n",
    "![Google adk  Cookbook](https://raw.githubusercontent.com/comet-ml/opik/main/apps/opik-documentation/documentation/fern/img/cookbook/google_adk_integration.png)"
   ]
  },
  {
   "cell_type": "markdown",
   "metadata": {},
   "source": [
    "## Viewing Traces in Opik\n",
    "\n",
    "After running the demo, you can view the traces in your Opik dashboard:\n",
    "\n",
    "1. Go to [comet.com](https://comet.com) and log into your account\n",
    "2. Navigate to the Opik section\n",
    "3. Look for the project named \"adk-gpt-4o-demo\"\n",
    "4. You'll see traces for each interaction, including:\n",
    "   - Agent calls\n",
    "   - Model invocations\n",
    "   - Tool executions\n",
    "   - Response generation\n",
    "\n",
    "The traces will show the complete flow of each conversation, making it easy to debug and optimize your agent's performance."
   ]
  },
  {
   "cell_type": "markdown",
   "metadata": {
    "id": "uSDJ1bFx51kd"
   },
   "source": [
    "## Next Steps\n",
    "\n",
    "This notebook demonstrated the basic integration between Google ADK and Opik. You can extend this by:\n",
    "\n",
    "- Adding more sophisticated tools and functions\n",
    "- Implementing custom evaluation metrics\n",
    "- Using different LLM models through LiteLLM\n",
    "- Adding more complex conversation flows\n",
    "- Implementing custom tracing strategies\n",
    "\n",
    "For more information:\n",
    "- [Google ADK Documentation](https://cloud.google.com/agent-development-kit)\n",
    "- [Opik Documentation](https://www.comet.com/docs/opik/)\n",
    "- [LiteLLM Documentation](https://docs.litellm.ai/)"
   ]
  }
 ],
 "metadata": {
  "colab": {
   "provenance": []
  },
  "kernelspec": {
   "display_name": "base",
   "language": "python",
   "name": "python3"
  },
  "language_info": {
   "codemirror_mode": {
    "name": "ipython",
    "version": 3
   },
   "file_extension": ".py",
   "mimetype": "text/x-python",
   "name": "python",
   "nbconvert_exporter": "python",
   "pygments_lexer": "ipython3",
   "version": "3.12.7"
  }
 },
 "nbformat": 4,
 "nbformat_minor": 4
}
